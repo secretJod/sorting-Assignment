{
 "cells": [
  {
   "cell_type": "markdown",
   "id": "f27d71db-589b-4825-8172-62afe5046c3a",
   "metadata": {},
   "source": [
    "Problem 1.Given an array of n numbers, give an algorithm which gives the element appearing maximum\n",
    "number of times?"
   ]
  },
  {
   "cell_type": "code",
   "execution_count": 18,
   "id": "55f103ee-b2f3-4c55-be84-125ef152624d",
   "metadata": {},
   "outputs": [
    {
     "data": {
      "text/plain": [
       "2"
      ]
     },
     "execution_count": 18,
     "metadata": {},
     "output_type": "execute_result"
    }
   ],
   "source": [
    "def maxFrequency(a):\n",
    "    a.sort()\n",
    "    n=len(a)\n",
    "    count=1\n",
    "    freq=1\n",
    "    ans_ele=a[0]\n",
    "    for i in range(1,n):\n",
    "        if a[i]==a[i-1]:\n",
    "            count+=1\n",
    "        else:\n",
    "            count=1   \n",
    "        if count>freq:\n",
    "            freq=count\n",
    "            ans_ele=a[i]\n",
    "    return ans_ele\n",
    "\n",
    "    \n",
    "a=[1,2,1,2,2,2,2,2,2]\n",
    "maxFrequency(a)"
   ]
  },
  {
   "cell_type": "markdown",
   "id": "62edb7f8-a36e-4c74-91e7-3fa5fbbde4c8",
   "metadata": {},
   "source": [
    "Problem 2 : We are given a list of n-1 integers and these integers are in the range of 1 to n . There are no\n",
    "duplicates in the list. One of the integers is missing in the list. Give an algorithm to find that element Ex:\n",
    "[1,2,4,6,3,7,8] 5 is the missing num."
   ]
  },
  {
   "cell_type": "code",
   "execution_count": 24,
   "id": "b55746db-d1da-4955-b7e9-576fd29fcd7b",
   "metadata": {},
   "outputs": [
    {
     "name": "stdout",
     "output_type": "stream",
     "text": [
      "5\n"
     ]
    }
   ],
   "source": [
    "def findMissing(arr,n):\n",
    "    sumi = sum(arr)\n",
    "    return n*(n+1)//2 - sumi\n",
    "print(findMissing([1,2,4,6,3,7,8],8))"
   ]
  },
  {
   "cell_type": "markdown",
   "id": "606f5c0b-6768-41e3-a625-d0d0ac3de1c9",
   "metadata": {},
   "source": [
    "Problem 3 : Given an array of n positive numbers. All numbers occurs even number of times except 1 which\n",
    "occurs odd number of times. Find that number in O(n) time and O(1) space. Ex: [1,2,3,2,3,1,3]. 3 is repeats odd\n",
    "times."
   ]
  },
  {
   "cell_type": "code",
   "execution_count": 23,
   "id": "09f9a10a-40fa-4f96-9abf-f445022e4ab1",
   "metadata": {},
   "outputs": [
    {
     "name": "stdout",
     "output_type": "stream",
     "text": [
      "1\n"
     ]
    }
   ],
   "source": [
    "def oddRepeat(a):\n",
    "    ans = 0\n",
    "    for i in a:\n",
    "        ans ^= i\n",
    "    return ans\n",
    "a=[1,1,1,1,3,3,1,2,2,3,3]\n",
    "print(oddRepeat(a))"
   ]
  },
  {
   "cell_type": "markdown",
   "id": "392b8405-cb63-4367-8e16-43b7b5fdcc75",
   "metadata": {},
   "source": [
    "Problem 4 : Given an array of n elements. Find two elements in the array such that their sum is equal to given\n",
    "element K."
   ]
  },
  {
   "cell_type": "code",
   "execution_count": 21,
   "id": "6e1c1c0e-2225-45af-b881-73abb62096c4",
   "metadata": {},
   "outputs": [
    {
     "name": "stdout",
     "output_type": "stream",
     "text": [
      "(3, 4)\n"
     ]
    }
   ],
   "source": [
    "def twoSum(arr,target):\n",
    "        arr.sort()\n",
    "        l=0\n",
    "        r=len(a)-1\n",
    "        while l<r:\n",
    "            sum = a[l] + a[r]\n",
    "            if sum == target:\n",
    "                return a[l],a[r]\n",
    "            if sum<target:\n",
    "                l+=1\n",
    "            else:\n",
    "                r-=1\n",
    "        return -1,-1\n",
    "arr = [2,4,2,4,3]\n",
    "k = 7\n",
    "print(twoSum(arr,k))"
   ]
  },
  {
   "cell_type": "markdown",
   "id": "e45e274e-a021-49b8-80bf-bbd5edb4f6b3",
   "metadata": {},
   "source": [
    "Problem 5 : Given an array of both positive and negative numbers, find two numbers such that their sum is\n",
    "closest to 0. Ex: [ 1 ,60 ,-10, 70, -80,85]. Ans : -80,85."
   ]
  },
  {
   "cell_type": "code",
   "execution_count": 28,
   "id": "c3a70d5e-27a7-41a8-bd68-0fe2b4b7bdbb",
   "metadata": {},
   "outputs": [
    {
     "name": "stdout",
     "output_type": "stream",
     "text": [
      "(-80, 85)\n"
     ]
    }
   ],
   "source": [
    "def closeZero(arr):\n",
    "    n = len(arr)\n",
    "    ans = 9999\n",
    "    a1,a2 = 0,0\n",
    "    for i in range(0,n):\n",
    "        for j in range(i+1,n):\n",
    "            if(abs(arr[i] + arr[j]) < ans):\n",
    "                ans = abs(arr[i] + arr[j])\n",
    "                a1 = arr[i]\n",
    "                a2 = arr[j]\n",
    "    return a1,a2\n",
    "arr = [1 ,60 ,-10, 70, -80,85]\n",
    "print(closeZero(arr))"
   ]
  },
  {
   "cell_type": "markdown",
   "id": "e4192742-379a-470a-b859-57d71cc70425",
   "metadata": {},
   "source": [
    "Problem 6 : Given an array of n elements . Find three elements such that their sum is equal to the given\n",
    "number."
   ]
  },
  {
   "cell_type": "code",
   "execution_count": 27,
   "id": "1073e067-60c0-40a6-8bd5-376d3eae993f",
   "metadata": {},
   "outputs": [
    {
     "name": "stdout",
     "output_type": "stream",
     "text": [
      "(1, 2, 7)\n"
     ]
    }
   ],
   "source": [
    "def threeSum(arr,k):\n",
    "    arr.sort()\n",
    "    n = len(arr)\n",
    "    for i in range(0,n-2) :\n",
    "        first = arr[i]\n",
    "        rem = k - first\n",
    "        l= i + 1\n",
    "        r=n-1\n",
    "        flag = 0\n",
    "        while l<r:\n",
    "            sum = arr[l] + arr[r]\n",
    "            if sum == rem:\n",
    "                flag = 1\n",
    "                break\n",
    "            if sum<rem:\n",
    "                l+=1\n",
    "            else:\n",
    "                r-=1\n",
    "        if flag == 1:\n",
    "            return first,arr[l],arr[r]\n",
    "    return -1,-1,-1\n",
    "arr = [1,2,3,4,5,6,7]\n",
    "k = 10\n",
    "print(threeSum(arr,k))"
   ]
  },
  {
   "cell_type": "markdown",
   "id": "37104286-ce8b-4c41-882e-f9262f9814d9",
   "metadata": {},
   "source": [
    "Problem 7 : Given an array of n elements . Find three elements i, j, k in the array such that\n",
    "i * i + j * j = k*k."
   ]
  },
  {
   "cell_type": "code",
   "execution_count": 31,
   "id": "675f0e65-90fa-44f1-afe5-8f9a4cbdfe13",
   "metadata": {},
   "outputs": [
    {
     "name": "stdout",
     "output_type": "stream",
     "text": [
      "(5, 4, 3)\n",
      "[7, 6, 5, 4, 3, 2, 1]\n"
     ]
    }
   ],
   "source": [
    "def pythagorus(arr):\n",
    "    arr.sort(reverse=True)\n",
    "    n = len(arr)\n",
    "    for i in range(0,n-2):\n",
    "        first = arr[i]*arr[i]\n",
    "        l = i + 1\n",
    "        r = n-1\n",
    "        flag = 0\n",
    "        while l<r:\n",
    "            sum = (arr[l]**2) + (arr[r]**2)\n",
    "            if sum == first:\n",
    "                flag = 1\n",
    "                break\n",
    "            if sum>first:\n",
    "                l+=1\n",
    "            else:\n",
    "                r-=1\n",
    "        if flag == 1:\n",
    "            return arr[i],arr[l],arr[r]\n",
    "    return -1,-1,-1\n",
    "arr = [1,2,3,4,5,6,7]\n",
    "print(pythagorus(arr))\n",
    "print(arr)"
   ]
  },
  {
   "cell_type": "markdown",
   "id": "fa79e027-6754-48b8-ba78-0507ec6df884",
   "metadata": {},
   "source": [
    "Problem 8 : An element is a majority if it appears more than n/2 times. Give an algorithm takes an array of n\n",
    "element as argument and identifies a majority (if it exists)."
   ]
  },
  {
   "cell_type": "code",
   "execution_count": 29,
   "id": "c5adeed5-9938-4ac8-82ef-7f3454ab96dd",
   "metadata": {},
   "outputs": [
    {
     "data": {
      "text/plain": [
       "2"
      ]
     },
     "execution_count": 29,
     "metadata": {},
     "output_type": "execute_result"
    }
   ],
   "source": [
    "def majorityElement(a):\n",
    "    a.sort()\n",
    "    n=len(a)\n",
    "    mini=n//2\n",
    "    count=1\n",
    "    for i in range(1,n):\n",
    "        if a[i]==a[i-1]:\n",
    "            count+=1\n",
    "        else:\n",
    "            if count>mini:\n",
    "                return a[i-1]\n",
    "            count=1   \n",
    "    if count>mini:\n",
    "        return a[n-1]\n",
    "    return -1\n",
    "\n",
    "a=[1,2,1,2,2,2,2,2,2]\n",
    "majorityElement(a)"
   ]
  },
  {
   "cell_type": "markdown",
   "id": "05a9fdb2-f139-4fe3-bbf1-da5c981b9b60",
   "metadata": {},
   "source": [
    "Problem 9 : Given n × n matrix, and in each row all 1’s are followed by 0’s. Find the row with the maximum\n",
    "number of 0’s."
   ]
  },
  {
   "cell_type": "code",
   "execution_count": 34,
   "id": "14e31e51-1f9e-48ba-8ac5-fd6730adbd68",
   "metadata": {},
   "outputs": [
    {
     "data": {
      "text/plain": [
       "3"
      ]
     },
     "execution_count": 34,
     "metadata": {},
     "output_type": "execute_result"
    }
   ],
   "source": [
    "def maxZerosRow(mat):\n",
    "    ans = 0\n",
    "    row = 0\n",
    "    for i in mat:\n",
    "        x = i.count(0)\n",
    "        if(ans < x):\n",
    "            ans = x\n",
    "            row = mat.index(i)\n",
    "    return row\n",
    "a=[[0,0,1,1,1],[0,0,0,1,1],[0,1,1,1,1],[0,0,0,0,1],[0,1,1,1,1]]\n",
    "maxZerosRow(a)"
   ]
  },
  {
   "cell_type": "markdown",
   "id": "1392b8a0-d3ee-4305-9c3f-0f8d801e0a18",
   "metadata": {},
   "source": [
    "Problem 10 : Sort an array of 0’s, 1’s and 2’s [or R’s, G’s and B’s]: Given an array A[] consisting of 0’s, 1’s and\n",
    "2’s, give an algorithm for sorting A[].The algorithm should put all 0’s first, then all 1’s and finally all 2’s at the\n",
    "end. Example Input = {0,1,1,0,1,2,1,2,0,0,0,1}, Output = {0,0,0,0,0,1,1,1,1,1,2,2}"
   ]
  },
  {
   "cell_type": "code",
   "execution_count": 33,
   "id": "3b0a9779-83f8-4b36-8a56-e406a6dd1e97",
   "metadata": {},
   "outputs": [
    {
     "name": "stdout",
     "output_type": "stream",
     "text": [
      "[0, 0, 0, 0, 0, 1, 1, 1, 1, 1, 2, 2]\n"
     ]
    }
   ],
   "source": [
    "def sortZeroOneTwo(arr):\n",
    "    a = []\n",
    "    n = len(arr)\n",
    "    z,o,t = 0,0,0\n",
    "\n",
    "    for i in arr:\n",
    "        if i == 0:\n",
    "            z += 1\n",
    "        elif i == 1:\n",
    "            o += 1\n",
    "        else:\n",
    "            t += 1\n",
    "\n",
    "    for i in range(0,n):\n",
    "        if z != 0:\n",
    "            a.append(0)\n",
    "            z -= 1\n",
    "        elif o != 0:\n",
    "            a.append(1)\n",
    "            o -= 1\n",
    "        else:\n",
    "            a.append(2)\n",
    "            t -= 1\n",
    "    arr = a\n",
    "    print(arr)\n",
    "\n",
    "arr = [0,1,1,0,1,2,1,2,0,0,0,1]\n",
    "sortZeroOneTwo(arr)"
   ]
  }
 ],
 "metadata": {
  "kernelspec": {
   "display_name": "Python 3 (ipykernel)",
   "language": "python",
   "name": "python3"
  },
  "language_info": {
   "codemirror_mode": {
    "name": "ipython",
    "version": 3
   },
   "file_extension": ".py",
   "mimetype": "text/x-python",
   "name": "python",
   "nbconvert_exporter": "python",
   "pygments_lexer": "ipython3",
   "version": "3.10.8"
  }
 },
 "nbformat": 4,
 "nbformat_minor": 5
}
